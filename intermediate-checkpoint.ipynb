{
 "cells": [
  {
   "cell_type": "markdown",
   "id": "6221d026",
   "metadata": {},
   "source": [
    "\n",
    "print(type(score))"
   ]
  },
  {
   "cell_type": "code",
   "execution_count": 2,
   "id": "f0f97525",
   "metadata": {},
   "outputs": [
    {
     "name": "stdout",
     "output_type": "stream",
     "text": [
      "<class 'str'>\n"
     ]
    }
   ],
   "source": [
    "a=\"v\"\n",
    "print(type(a))"
   ]
  },
  {
   "cell_type": "code",
   "execution_count": 3,
   "id": "a133c6ef",
   "metadata": {},
   "outputs": [
    {
     "name": "stdout",
     "output_type": "stream",
     "text": [
      "1838826771824\n"
     ]
    }
   ],
   "source": [
    "print(id(a))"
   ]
  },
  {
   "cell_type": "code",
   "execution_count": 4,
   "id": "666cdb75",
   "metadata": {},
   "outputs": [
    {
     "name": "stdout",
     "output_type": "stream",
     "text": [
      "1838825603600\n"
     ]
    }
   ],
   "source": [
    "my_var=10\n",
    "print(id(my_var))"
   ]
  },
  {
   "cell_type": "code",
   "execution_count": 16,
   "id": "bb0fba27",
   "metadata": {},
   "outputs": [
    {
     "name": "stdout",
     "output_type": "stream",
     "text": [
      "True\n",
      "False\n",
      "True\n",
      "5\n"
     ]
    }
   ],
   "source": [
    "name=\"vicky\"\n",
    "age=23\n",
    "print(23==age)\n",
    "print(20>age)\n",
    "print(name==\"vicky\")\n",
    "print(len(name))"
   ]
  },
  {
   "cell_type": "code",
   "execution_count": 8,
   "id": "20f7385d",
   "metadata": {},
   "outputs": [
    {
     "name": "stdout",
     "output_type": "stream",
     "text": [
      "625\n",
      "34\n",
      "48\n",
      "True\n"
     ]
    }
   ],
   "source": [
    "print(5**4) \n",
    "print(2+4*2**3)\n",
    "print((2+4)*2**3)\n",
    "print(1000==1_0_00)\n"
   ]
  },
  {
   "cell_type": "code",
   "execution_count": 27,
   "id": "7f47b8e2",
   "metadata": {},
   "outputs": [
    {
     "name": "stdout",
     "output_type": "stream",
     "text": [
      "7\n",
      "4\n",
      "12\n",
      "6.0\n",
      "36.0\n",
      "37.0\n",
      "5 0\n",
      "1000\n",
      "45\n",
      "9\n",
      "1\n"
     ]
    }
   ],
   "source": [
    "#assingment operetoras \n",
    "\n",
    "a=5\n",
    "a+=2\n",
    "print(a)\n",
    "\n",
    "a-=3\n",
    "print(a)\n",
    "\n",
    "a*=3\n",
    "print(a)\n",
    "\n",
    "a/=2\n",
    "print(a)\n",
    "\n",
    "a**=2\n",
    "print(a)\n",
    "\n",
    "a+=1\n",
    "print(a)\n",
    "\n",
    "a,b=divmod(30,6)\n",
    "print(a,b)\n",
    "\n",
    "print(pow(10,3))\n",
    "\n",
    "\n",
    "print(sum([1,2,3,4,5,6,7,8,9,]))\n",
    "\n",
    "print(max([1,2,3,4,5,6,7,8,9,]))\n",
    "\n",
    "print(min([1,2,3,4,5,6,7,8,9,]))"
   ]
  },
  {
   "cell_type": "code",
   "execution_count": 29,
   "id": "c8d902fe",
   "metadata": {},
   "outputs": [
    {
     "name": "stdout",
     "output_type": "stream",
     "text": [
      "5.45435\n"
     ]
    }
   ],
   "source": [
    "a=5.45435\n",
    "print(round(a,5))"
   ]
  },
  {
   "cell_type": "code",
   "execution_count": 31,
   "id": "577527fc",
   "metadata": {},
   "outputs": [
    {
     "name": "stdout",
     "output_type": "stream",
     "text": [
      "True\n"
     ]
    }
   ],
   "source": [
    "#identify opraters is and not\n",
    "a,b=2,2\n",
    "print(a is b)\n",
    "\n"
   ]
  },
  {
   "cell_type": "code",
   "execution_count": 32,
   "id": "7a5cecd0",
   "metadata": {},
   "outputs": [
    {
     "name": "stdout",
     "output_type": "stream",
     "text": [
      "2284519227664\n"
     ]
    }
   ],
   "source": [
    "#immutable int,float,srt,tuple,forenoset\n",
    "#muttable list,set, dic\n",
    "print(id(a))"
   ]
  },
  {
   "cell_type": "code",
   "execution_count": 33,
   "id": "e80af39e",
   "metadata": {},
   "outputs": [
    {
     "name": "stdout",
     "output_type": "stream",
     "text": [
      "5\n"
     ]
    }
   ],
   "source": [
    "a+=3\n",
    "print(a)"
   ]
  },
  {
   "cell_type": "code",
   "execution_count": 35,
   "id": "81cc5851",
   "metadata": {},
   "outputs": [
    {
     "name": "stdout",
     "output_type": "stream",
     "text": [
      "2284519227760\n"
     ]
    }
   ],
   "source": [
    "print(id(a))\n",
    "      "
   ]
  },
  {
   "cell_type": "code",
   "execution_count": 40,
   "id": "44b31041",
   "metadata": {},
   "outputs": [
    {
     "name": "stdout",
     "output_type": "stream",
     "text": [
      "2284622424576\n",
      "[1, 2, 3, 100]\n",
      "2284622424576\n",
      "True\n",
      "False\n"
     ]
    }
   ],
   "source": [
    "number=[1,2,3]\n",
    "print(id(number))\n",
    "number.append(100)\n",
    "print(number)\n",
    "print(id(number))\n",
    "\n",
    "num=number.copy()\n",
    "print(num==number)\n",
    "print(num is number)\n"
   ]
  },
  {
   "cell_type": "code",
   "execution_count": 42,
   "id": "8fb59da5",
   "metadata": {},
   "outputs": [
    {
     "name": "stdout",
     "output_type": "stream",
     "text": [
      "False\n"
     ]
    }
   ],
   "source": [
    "print(0.125==1/10+2/100+5/1000)"
   ]
  },
  {
   "cell_type": "code",
   "execution_count": 56,
   "id": "782dba37",
   "metadata": {},
   "outputs": [
    {
     "name": "stdout",
     "output_type": "stream",
     "text": [
      "0.33333333333333331483\n",
      "0.10000000000000000555\n",
      "0.10000000000000000555\n",
      "0.12600000000000000089\n",
      "0.00000000000000000000\n",
      "1.00000000000000000000\n"
     ]
    }
   ],
   "source": [
    "print(format(1/3, '.20f'))\n",
    "print(format(1/10,'.20f'))\n",
    "print(format(0.1,'.20f'))\n",
    "print(format(0.126,'.20f'))\n",
    "print(format(00.0,'.20f'))\n",
    "print(format(1.0,'.20f'))\n",
    "print(format(0.1,'.20f'))"
   ]
  },
  {
   "cell_type": "code",
   "execution_count": 63,
   "id": "b00a9635",
   "metadata": {},
   "outputs": [
    {
     "name": "stdout",
     "output_type": "stream",
     "text": [
      "False\n",
      "True\n"
     ]
    }
   ],
   "source": [
    "from math import isclose\n",
    "\n",
    "x=0.000000001\n",
    "y=0.000000002\n",
    "print(x==y)\n",
    "\n",
    "print(isclose(x,y, abs_tol=0.01))\n"
   ]
  },
  {
   "cell_type": "code",
   "execution_count": 64,
   "id": "626eca44",
   "metadata": {},
   "outputs": [
    {
     "name": "stdout",
     "output_type": "stream",
     "text": [
      "True\n"
     ]
    }
   ],
   "source": [
    "a=99999999.01\n",
    "b=99999999.02\n",
    "\n",
    "\n",
    "print(isclose(a,b, rel_tol=0.01))"
   ]
  },
  {
   "cell_type": "code",
   "execution_count": 65,
   "id": "1e3e3c86",
   "metadata": {},
   "outputs": [
    {
     "name": "stdout",
     "output_type": "stream",
     "text": [
      "7.7\n"
     ]
    }
   ],
   "source": [
    "a=3.5\n",
    "b=4.2\n",
    "print(a+b)"
   ]
  },
  {
   "cell_type": "code",
   "execution_count": 66,
   "id": "9417f425",
   "metadata": {},
   "outputs": [
    {
     "name": "stdout",
     "output_type": "stream",
     "text": [
      "3.50000000000000000000\n",
      "4.20000000000000017764\n"
     ]
    }
   ],
   "source": [
    "print(format(a, '.20f'))\n",
    "print(format(b, '.20f'))"
   ]
  },
  {
   "cell_type": "code",
   "execution_count": 74,
   "id": "285b8ae8",
   "metadata": {},
   "outputs": [
    {
     "name": "stdout",
     "output_type": "stream",
     "text": [
      "hai i\"m viknesh\n"
     ]
    }
   ],
   "source": [
    "print('hai i\"m viknesh')"
   ]
  },
  {
   "cell_type": "markdown",
   "id": "b1901224",
   "metadata": {},
   "source": [
    "# string \n"
   ]
  },
  {
   "cell_type": "code",
   "execution_count": 10,
   "id": "1934f845",
   "metadata": {},
   "outputs": [
    {
     "name": "stdout",
     "output_type": "stream",
     "text": [
      "a 10\n",
      "<class 'float'>\n",
      "<class 'int'>\n",
      "<class 'int'>\n"
     ]
    }
   ],
   "source": [
    "# miles=float(input(\"enter the n number\"))\n",
    "# km=miles*1.609\n",
    "# print(\"kilometer\",km)\n",
    "\n",
    "a=10\n",
    "b=5.2\n",
    "c=\"5.3\"\n",
    "\n",
    "print('a',a)\n",
    "a_float=float(a)\n",
    "print(type(a_float))\n",
    "\n",
    "b_type=int(b)\n",
    "print(type(b_type))\n",
    "\n",
    "c_type=int(float(c))\n",
    "print(type(c_type))"
   ]
  },
  {
   "cell_type": "code",
   "execution_count": 14,
   "id": "834fbda1",
   "metadata": {},
   "outputs": [
    {
     "name": "stdout",
     "output_type": "stream",
     "text": [
      "enter the weight2\n",
      "enter the height3\n",
      "0.22\n"
     ]
    }
   ],
   "source": [
    "weight =float(input(\"enter the weight\"))\n",
    "height=float(input(\"enter the height\"))\n",
    "\n",
    "BMI=weight/height**2\n",
    "\n",
    "print(format(BMI, '.2f'))"
   ]
  },
  {
   "cell_type": "code",
   "execution_count": 19,
   "id": "4cb1baeb",
   "metadata": {},
   "outputs": [
    {
     "name": "stdout",
     "output_type": "stream",
     "text": [
      "g\n",
      "d\n",
      "e\n"
     ]
    }
   ],
   "source": [
    "movie=\"The godfather\"\n",
    "print(movie[4])\n",
    "print(movie[6])\n",
    "print(movie[-2])\n"
   ]
  },
  {
   "cell_type": "code",
   "execution_count": 21,
   "id": "55dd60a9",
   "metadata": {},
   "outputs": [
    {
     "name": "stdout",
     "output_type": "stream",
     "text": [
      "t\n",
      "6\n"
     ]
    }
   ],
   "source": [
    "print(\"python\"[2])\n",
    "print(len(\"python\"))"
   ]
  },
  {
   "cell_type": "code",
   "execution_count": 24,
   "id": "515323e6",
   "metadata": {},
   "outputs": [
    {
     "name": "stdout",
     "output_type": "stream",
     "text": [
      "g\n"
     ]
    }
   ],
   "source": [
    "s1=\"i love python programming!\"\n",
    "n=len(s1)\n",
    "print(s1[n-2])"
   ]
  },
  {
   "cell_type": "code",
   "execution_count": 26,
   "id": "786b31d9",
   "metadata": {},
   "outputs": [
    {
     "name": "stdout",
     "output_type": "stream",
     "text": [
      "The god fathercoppplo\n",
      "The god fatherwas direcotr bycoppplo\n"
     ]
    }
   ],
   "source": [
    "movie=\"The god father\"\n",
    "director=\"coppplo\"\n",
    "mv=movie+director\n",
    "print(mv)\n",
    "print(movie+\"was direcotr by\"+director)\n"
   ]
  },
  {
   "cell_type": "code",
   "execution_count": 31,
   "id": "80d05267",
   "metadata": {},
   "outputs": [
    {
     "name": "stdout",
     "output_type": "stream",
     "text": [
      "python3.11\n"
     ]
    }
   ],
   "source": [
    "language=\"python\"\n",
    "version= 3.11\n",
    "print(language + str(version))"
   ]
  },
  {
   "cell_type": "code",
   "execution_count": 39,
   "id": "8b812268",
   "metadata": {},
   "outputs": [
    {
     "name": "stdout",
     "output_type": "stream",
     "text": [
      "The god fatherThe god fatherThe god fatherThe god fatherThe god father\n",
      "$$$$$$$$$$$$$$$$$$$$$$$$$$$$$$$$$$$$$$$$$$$$$$$$$$\n",
      "10.510.510.510.510.5\n",
      "52.5\n"
     ]
    }
   ],
   "source": [
    "print(movie*5)\n",
    "print(\"$\"*50)\n",
    "price=\"10.5\"\n",
    "print(price*5)\n",
    "print(float(price)*5)"
   ]
  },
  {
   "cell_type": "code",
   "execution_count": 125,
   "id": "84a360fa",
   "metadata": {},
   "outputs": [
    {
     "name": "stdout",
     "output_type": "stream",
     "text": [
      "Th\n",
      "e g\n",
      "The g\n",
      "godfather\n",
      "th\n",
      "The godfather\n",
      "The godfather\n",
      " godfather\n",
      "The godfather\n",
      "Tegdahr\n",
      "rehtafdog ehT\n"
     ]
    }
   ],
   "source": [
    "#slicing\n",
    "movie=\"The godfather\"\n",
    "print(movie[0:2])\n",
    "print(movie[2:5])\n",
    "print(movie[:5]) \n",
    "print(movie[4:]) \n",
    "print(movie[-4:-2])\n",
    "print(movie[:4]+movie[4:])\n",
    "print(movie[:42])\n",
    "print(movie[3:100])\n",
    "print(movie[::])\n",
    "print(movie[0:13:2])\n",
    "print(movie[::-1])"
   ]
  },
  {
   "cell_type": "code",
   "execution_count": 131,
   "id": "002b5184",
   "metadata": {},
   "outputs": [
    {
     "name": "stdout",
     "output_type": "stream",
     "text": [
      "hello veechviknesh you are 23 old\n"
     ]
    }
   ],
   "source": [
    "#string formatting\n",
    "\n",
    "first_name=\"veech\"\n",
    "last_name=\"viknesh\"\n",
    "age=23\n",
    "\n",
    "print('hello '+first_name+''+last_name+' you are '+str(age)+' old')"
   ]
  },
  {
   "cell_type": "code",
   "execution_count": 135,
   "id": "7eca44b5",
   "metadata": {},
   "outputs": [
    {
     "name": "stdout",
     "output_type": "stream",
     "text": [
      "hello veech viknesh you are 23 old\n"
     ]
    }
   ],
   "source": [
    "print(f'hello {first_name} {last_name} you are {str(age)} old')"
   ]
  },
  {
   "cell_type": "code",
   "execution_count": 139,
   "id": "35ef0d59",
   "metadata": {},
   "outputs": [
    {
     "name": "stdout",
     "output_type": "stream",
     "text": [
      "6.65\n"
     ]
    }
   ],
   "source": [
    "s=f'{2.3+5*2/2.3:.2f}'\n",
    "print(s)"
   ]
  },
  {
   "cell_type": "code",
   "execution_count": 142,
   "id": "434c4674",
   "metadata": {},
   "outputs": [
    {
     "name": "stdout",
     "output_type": "stream",
     "text": [
      "5\n",
      "['__add__', '__class__', '__contains__', '__delattr__', '__dir__', '__doc__', '__eq__', '__format__', '__ge__', '__getattribute__', '__getitem__', '__getnewargs__', '__gt__', '__hash__', '__init__', '__init_subclass__', '__iter__', '__le__', '__len__', '__lt__', '__mod__', '__mul__', '__ne__', '__new__', '__reduce__', '__reduce_ex__', '__repr__', '__rmod__', '__rmul__', '__setattr__', '__sizeof__', '__str__', '__subclasshook__', 'capitalize', 'casefold', 'center', 'count', 'encode', 'endswith', 'expandtabs', 'find', 'format', 'format_map', 'index', 'isalnum', 'isalpha', 'isascii', 'isdecimal', 'isdigit', 'isidentifier', 'islower', 'isnumeric', 'isprintable', 'isspace', 'istitle', 'isupper', 'join', 'ljust', 'lower', 'lstrip', 'maketrans', 'partition', 'removeprefix', 'removesuffix', 'replace', 'rfind', 'rindex', 'rjust', 'rpartition', 'rsplit', 'rstrip', 'split', 'splitlines', 'startswith', 'strip', 'swapcase', 'title', 'translate', 'upper', 'zfill']\n",
      "Help on method_descriptor:\n",
      "\n",
      "replace(self, old, new, count=-1, /)\n",
      "    Return a copy with all occurrences of substring old replaced by new.\n",
      "    \n",
      "      count\n",
      "        Maximum number of occurrences to replace.\n",
      "        -1 (the default value) means replace all occurrences.\n",
      "    \n",
      "    If the optional argument count is given, only the first count occurrences are\n",
      "    replaced.\n",
      "\n"
     ]
    }
   ],
   "source": [
    "#string methods\n",
    "print(len(\"gfidg\"))\n",
    "print(dir(str))\n",
    "help(str.replace)"
   ]
  },
  {
   "cell_type": "markdown",
   "id": "fe7452be",
   "metadata": {},
   "source": [
    "### 29/09/23"
   ]
  },
  {
   "cell_type": "code",
   "execution_count": 5,
   "id": "e5a57c30",
   "metadata": {},
   "outputs": [
    {
     "name": "stdout",
     "output_type": "stream",
     "text": [
      "enter the lattervvrr\n",
      "the letter is not palindrome\n"
     ]
    }
   ],
   "source": [
    "#palindrome\n",
    "\n",
    "String=input(\"enter the latter\")\n",
    "\n",
    "if(String==String[::-1]):\n",
    "    print(\"the letter is palindrome\")\n",
    "else:\n",
    "    print(\"the letter is not palindrome\")"
   ]
  },
  {
   "cell_type": "code",
   "execution_count": 13,
   "id": "9da8f839",
   "metadata": {},
   "outputs": [
    {
     "name": "stdout",
     "output_type": "stream",
     "text": [
      "no fund pls deposit 350\n"
     ]
    }
   ],
   "source": [
    "#conditinal statement\n",
    "\n",
    "balance=150\n",
    "price=500\n",
    "\n",
    "if balance>=price:\n",
    "    new_balance=balance-price\n",
    "    print(f'you can bookk the car and new  balance {new_balance}')\n",
    "else:\n",
    "    print(f'no fund pls deposit {price-balance}')"
   ]
  },
  {
   "cell_type": "code",
   "execution_count": 19,
   "id": "f1099823",
   "metadata": {},
   "outputs": [
    {
     "name": "stdout",
     "output_type": "stream",
     "text": [
      "do you want to continue ? yes or noYEs\n",
      "we'll move on\n"
     ]
    }
   ],
   "source": [
    "#Nested ifelifelse Statements\n",
    "\n",
    "answer=input(\"do you want to continue ? yes or no\").lower()\n",
    "if answer=='yes':\n",
    "    print('we\\'ll move on')\n",
    "elif answer=='no':\n",
    "    print('we\\' stop')\n",
    "else:\n",
    "    print(\"invalid answer\")"
   ]
  },
  {
   "cell_type": "code",
   "execution_count": 22,
   "id": "f90008c5",
   "metadata": {},
   "outputs": [
    {
     "data": {
      "text/plain": [
       "140714046539984"
      ]
     },
     "execution_count": 22,
     "metadata": {},
     "output_type": "execute_result"
    }
   ],
   "source": [
    "#Boolean Variables\n",
    "\n",
    "int(False)\n",
    "\n",
    "int(True)\n",
    "\n",
    "id(True)"
   ]
  },
  {
   "cell_type": "code",
   "execution_count": 29,
   "id": "484d18ed",
   "metadata": {},
   "outputs": [
    {
     "data": {
      "text/plain": [
       "False"
      ]
     },
     "execution_count": 29,
     "metadata": {},
     "output_type": "execute_result"
    }
   ],
   "source": [
    "id(4>3)\n",
    "(4>3)==True\n",
    "(4>3) is True\n",
    "False==0\n",
    "id(0)\n",
    "id(False)\n",
    "\"4\"==4\n",
    "a=1\n",
    "b=2\n",
    "a>b , a<b"
   ]
  },
  {
   "cell_type": "code",
   "execution_count": 34,
   "id": "228becfd",
   "metadata": {},
   "outputs": [
    {
     "name": "stdout",
     "output_type": "stream",
     "text": [
      "result is value\n"
     ]
    }
   ],
   "source": [
    "result=\"11\"\n",
    "if bool(result):\n",
    "    print(\"result is value\")\n",
    "else:\n",
    "    print(\"result is not emty\")"
   ]
  },
  {
   "cell_type": "code",
   "execution_count": 48,
   "id": "5387fbea",
   "metadata": {},
   "outputs": [
    {
     "data": {
      "text/plain": [
       "True"
      ]
     },
     "execution_count": 48,
     "metadata": {},
     "output_type": "execute_result"
    }
   ],
   "source": [
    "age=20\n",
    "name=\"vicky\"\n",
    "age>0 and age>18\n",
    "\n",
    "age>0 and age<28 and name==\"vicky\""
   ]
  },
  {
   "cell_type": "code",
   "execution_count": 49,
   "id": "a15a1cc5",
   "metadata": {},
   "outputs": [
    {
     "data": {
      "text/plain": [
       "True"
      ]
     },
     "execution_count": 49,
     "metadata": {},
     "output_type": "execute_result"
    }
   ],
   "source": [
    "#OR\n",
    "age,name=23,'veech'\n",
    "age<3 or name=='veech' \n",
    "\n"
   ]
  },
  {
   "cell_type": "code",
   "execution_count": 54,
   "id": "c9a5cb25",
   "metadata": {},
   "outputs": [
    {
     "data": {
      "text/plain": [
       "True"
      ]
     },
     "execution_count": 54,
     "metadata": {},
     "output_type": "execute_result"
    }
   ],
   "source": [
    "age!=23 or name=='veech'"
   ]
  },
  {
   "cell_type": "code",
   "execution_count": 62,
   "id": "08c82d25",
   "metadata": {},
   "outputs": [
    {
     "name": "stdout",
     "output_type": "stream",
     "text": [
      "jerry\n"
     ]
    }
   ],
   "source": [
    "import random\n",
    "animals=['cat','mouse','fish']\n",
    "\n",
    "choice=random.choice(animals)\n",
    "\n",
    "if choice=='cat':\n",
    "    print(\"Tom\")\n",
    "elif choice=='mouse':\n",
    "        print(\"jerry\")\n",
    "else:\n",
    "    print(\"Neo\")\n",
    "        \n",
    "    "
   ]
  },
  {
   "cell_type": "code",
   "execution_count": 63,
   "id": "cda21424",
   "metadata": {},
   "outputs": [
    {
     "name": "stdout",
     "output_type": "stream",
     "text": [
      "v\n",
      "i\n",
      "c\n",
      "k\n",
      "y\n"
     ]
    }
   ],
   "source": [
    "#For loops\n",
    "for i in \"vicky\":\n",
    "    print(i)"
   ]
  },
  {
   "cell_type": "code",
   "execution_count": 69,
   "id": "a8b01830",
   "metadata": {},
   "outputs": [
    {
     "name": "stdout",
     "output_type": "stream",
     "text": [
      "v\n",
      "bye\n",
      "i\n",
      "bye\n",
      "c\n",
      "bye\n",
      "k\n",
      "bye\n",
      "y\n",
      "bye\n",
      "######\n",
      "1\n",
      "2\n",
      "3\n"
     ]
    }
   ],
   "source": [
    "for i in \"vicky\":\n",
    "    print(i)\n",
    "    print(\"bye\")\n",
    "print('######')\n",
    "for j in {a,2,3}:\n",
    "    print(j)"
   ]
  },
  {
   "cell_type": "code",
   "execution_count": 73,
   "id": "e121aadb",
   "metadata": {},
   "outputs": [
    {
     "name": "stdout",
     "output_type": "stream",
     "text": [
      "Enter samethingsaeiou\n",
      "a e i o u "
     ]
    }
   ],
   "source": [
    "my_str=input(\"Enter samethings\")\n",
    "vowels=\"aeiou\"\n",
    "for item in my_str:\n",
    "    if item in vowels:\n",
    "        print(item,end=\" \")"
   ]
  },
  {
   "cell_type": "code",
   "execution_count": 84,
   "id": "076db563",
   "metadata": {},
   "outputs": [
    {
     "name": "stdout",
     "output_type": "stream",
     "text": [
      "<class 'range'>\n",
      "[2, 3, 4, 5, 6, 7, 8, 9]\n",
      "<class 'range'>\n",
      "[2, 4, 6, 8]\n",
      "500500\n",
      "[0, 1, 2, 3, 4, 5, 6, 7, 8, 9]\n",
      "[3, 4, 5, 6, 7, 8, 9]\n",
      "[5, 10, 15, 20, 25, 30, 35, 40, 45, 50, 55, 60, 65, 70, 75, 80, 85, 90, 95]\n",
      "[-20, -10, 0, 10, 20, 30, 40]\n",
      "[10, 9, 8, 7, 6, 5, 4, 3, 2, 1, 0, -1]\n"
     ]
    }
   ],
   "source": [
    "#range\n",
    "r=range(2,10)\n",
    "print(type(r))\n",
    "print(list(r))\n",
    "\n",
    "\n",
    "r=range(2,10,2)\n",
    "print(type(r))\n",
    "print(list(r))\n",
    "\n",
    "s=sum(range(1,1001))\n",
    "print(s)\n",
    "\n",
    "print(list(range(10)))\n",
    "\n",
    "print(list(range(3,10)))\n",
    "\n",
    "\n",
    "print(list(range(5,100,5)))\n",
    "\n",
    "print(list(range(-20,50,10)))\n",
    "\n",
    "print(list(range(10,-2,-1)))"
   ]
  },
  {
   "cell_type": "code",
   "execution_count": 89,
   "id": "3f674c7e",
   "metadata": {},
   "outputs": [
    {
     "name": "stdout",
     "output_type": "stream",
     "text": [
      "5050\n"
     ]
    }
   ],
   "source": [
    "s=0\n",
    "\n",
    "for n in range(101):\n",
    "    s+=n\n",
    "print(f'{s}')    "
   ]
  },
  {
   "cell_type": "code",
   "execution_count": 97,
   "id": "11c47324",
   "metadata": {},
   "outputs": [
    {
     "name": "stdout",
     "output_type": "stream",
     "text": [
      "something do 0\n",
      "something do 1\n",
      "something do 2\n",
      "something do 3\n",
      "something do 4\n",
      "something do 5\n",
      "something do 6\n",
      "something do 7\n",
      "something do 8\n",
      "something do 9\n"
     ]
    }
   ],
   "source": [
    "for _ in range(10):\n",
    "    print(\"something do\",_)"
   ]
  },
  {
   "cell_type": "code",
   "execution_count": 107,
   "id": "bfb87432",
   "metadata": {},
   "outputs": [
    {
     "name": "stdout",
     "output_type": "stream",
     "text": [
      "winnner Round 0\n",
      "kicha\n",
      "#######\n",
      "winnner Round 1\n",
      "gokul\n",
      "#######\n",
      "winnner Round 2\n",
      "law\n",
      "#######\n",
      "winnner Round 3\n",
      "vikcy\n",
      "#######\n",
      "winnner Round 4\n",
      "mesh\n",
      "#######\n",
      "winnner Round 5\n",
      "sabari\n",
      "#######\n",
      "winnner Round 6\n",
      "sathiya\n",
      "#######\n",
      "winnner Round 7\n",
      "paul\n",
      "#######\n",
      "winnner Round 8\n",
      "rav\n",
      "#######\n",
      "winnner Round 9\n",
      "jirac\n",
      "#######\n"
     ]
    }
   ],
   "source": [
    "import random\n",
    "names=['vikcy','jirac','sathiya','mesh','sabari','paul','rav','gokul','law','kicha']\n",
    "\n",
    "for i in range(10):\n",
    "    print('winnner Round',i)\n",
    "    winner=random.choice(names)\n",
    "    names.remove(winner)\n",
    "    print(winner)\n",
    "    print('#######')\n",
    "    \n",
    "        "
   ]
  },
  {
   "cell_type": "code",
   "execution_count": 121,
   "id": "7262ed7c",
   "metadata": {},
   "outputs": [
    {
     "name": "stdout",
     "output_type": "stream",
     "text": [
      "enter your password10\n",
      "enter your password: 7/)<7%)4AC\n"
     ]
    }
   ],
   "source": [
    "import random\n",
    "import string\n",
    "\n",
    "chars=string.ascii_letters+string.digits+string.punctuation\n",
    "\n",
    "# print(random.choice(chars))\n",
    "\n",
    "length=int(input('enter your password'))\n",
    "password=''\n",
    "\n",
    "for _ in range(length):\n",
    "    c=random.choice(chars)\n",
    "    password += c\n",
    "    \n",
    "print(f'enter your password: {password}')"
   ]
  },
  {
   "cell_type": "code",
   "execution_count": 21,
   "id": "9728c49d",
   "metadata": {},
   "outputs": [
    {
     "name": "stdout",
     "output_type": "stream",
     "text": [
      "v   l k e   p y t h o n   n "
     ]
    }
   ],
   "source": [
    "#For, continue and pass Statements\n",
    "\n",
    "for letter in \"vi like python in\":\n",
    "    if letter=='i':\n",
    "        continue\n",
    "    print(letter, end=\" \")\n",
    "    "
   ]
  },
  {
   "cell_type": "code",
   "execution_count": 22,
   "id": "aeb37fbf",
   "metadata": {},
   "outputs": [
    {
     "name": "stdout",
     "output_type": "stream",
     "text": [
      "the even number0\n",
      "the odd number1\n",
      "the even number2\n",
      "the odd number3\n",
      "the even number4\n",
      "the odd number5\n",
      "the even number6\n",
      "the odd number7\n",
      "the even number8\n",
      "the odd number9\n"
     ]
    }
   ],
   "source": [
    "for n in range(10):\n",
    "    if n%2==0:\n",
    "        print(f'the even number{n}')\n",
    "        continue\n",
    "    print(f'the odd number{n}')\n",
    "\n",
    "for _ in range(100):\n",
    "    pass"
   ]
  },
  {
   "cell_type": "code",
   "execution_count": 23,
   "id": "dc228494",
   "metadata": {},
   "outputs": [
    {
     "name": "stdout",
     "output_type": "stream",
     "text": [
      "0\n",
      "1\n",
      "2\n",
      "3\n",
      "4\n",
      "5\n",
      "outside loop\n"
     ]
    }
   ],
   "source": [
    "for number in range(10):\n",
    "    print(number)\n",
    "    if number== 5:\n",
    "        break\n",
    "exit()\n",
    "print(\"outside loop\")"
   ]
  },
  {
   "cell_type": "code",
   "execution_count": 9,
   "id": "fe1e5ff4",
   "metadata": {},
   "outputs": [
    {
     "name": "stdout",
     "output_type": "stream",
     "text": [
      "p\n",
      "y\n",
      "t\n",
      "h\n",
      "breaking out of the loop\n"
     ]
    }
   ],
   "source": [
    "for letter in 'python':\n",
    "    if letter =='o':\n",
    "        print(\"breaking out of the loop\")\n",
    "        break\n",
    "    print(letter)"
   ]
  },
  {
   "cell_type": "code",
   "execution_count": 2,
   "id": "238dda16",
   "metadata": {},
   "outputs": [
    {
     "name": "stdout",
     "output_type": "stream",
     "text": [
      "the this number not diviable number in range\n"
     ]
    }
   ],
   "source": [
    "for i in range(1,10):\n",
    "    if i%12==0:\n",
    "        print(\"the this number diviable number in range breaking out\")\n",
    "        break\n",
    "else:\n",
    "    print(\"the this number not diviable number in range\")"
   ]
  },
  {
   "cell_type": "code",
   "execution_count": 8,
   "id": "7d59c7f3",
   "metadata": {},
   "outputs": [
    {
     "name": "stdout",
     "output_type": "stream",
     "text": [
      "a\n",
      "0\n",
      "1\n",
      "2\n",
      "3\n",
      "4\n",
      "b\n",
      "0\n",
      "1\n",
      "2\n",
      "3\n",
      "4\n",
      "c\n",
      "0\n",
      "1\n",
      "2\n",
      "3\n",
      "4\n"
     ]
    }
   ],
   "source": [
    "for l in 'abc':\n",
    "    print(l)\n",
    "    for n in range(5):\n",
    "        if n==5:\n",
    "            break\n",
    "        print(n)\n",
    "        "
   ]
  },
  {
   "cell_type": "code",
   "execution_count": null,
   "id": "0c38c778",
   "metadata": {},
   "outputs": [],
   "source": [
    "my_sum=0\n",
    "my_product=1\n",
    "\n",
    "for n in range(1,26):\n",
    "    my_sum=my_sum+n\n",
    "    my_product=my_product*n\n",
    "    \n",
    "print(my_sum)\n",
    "print(my_product)\n",
    "\n"
   ]
  },
  {
   "cell_type": "code",
   "execution_count": null,
   "id": "7a9cc651",
   "metadata": {},
   "outputs": [],
   "source": [
    "x=0\n",
    "\n",
    "while x < 20:\n",
    "    print(\"x\",x)\n",
    "    x=x+1\n",
    "    "
   ]
  },
  {
   "cell_type": "code",
   "execution_count": null,
   "id": "e48d7943",
   "metadata": {},
   "outputs": [],
   "source": []
  },
  {
   "cell_type": "code",
   "execution_count": null,
   "id": "3b46510a",
   "metadata": {},
   "outputs": [],
   "source": []
  }
 ],
 "metadata": {
  "kernelspec": {
   "display_name": "Python 3 (ipykernel)",
   "language": "python",
   "name": "python3"
  },
  "language_info": {
   "codemirror_mode": {
    "name": "ipython",
    "version": 3
   },
   "file_extension": ".py",
   "mimetype": "text/x-python",
   "name": "python",
   "nbconvert_exporter": "python",
   "pygments_lexer": "ipython3",
   "version": "3.10.9"
  }
 },
 "nbformat": 4,
 "nbformat_minor": 5
}
